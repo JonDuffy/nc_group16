{
 "cells": [
  {
   "cell_type": "markdown",
   "metadata": {},
   "source": [
    "# Introduction to Neural Computation Coursework- Group 16\n",
    "\n",
    "* Introduction - Discuss the data sets involved, the machine learning task, and what you aimed to achieve.  [5%]\n",
    "\n",
    "* Design - Describe and justify the neural network you designed for the task, and the factors you decided to experiment with.  [15%]\n",
    "\n",
    "* Implementation - Describe how you implemented your neural network and the associated performance analysis mechanisms. Explain  why  you  chose  to  do  it  that  way.   Remember  to  cite  any sources you used.  Include comments in the source code that explains how the code works.  [20%]\n",
    "\n",
    "* Experiments - Describe the experiments you carried out to optimise your network’s generalization performance, and present the results you obtained.  Explain in detail how you used the training and testing data sets.  The results should be presented in a statistically rigorous manner.  [45%]\n",
    "\n",
    "* Conclusions - Summarize your key findings, including which factors  proved  most  crucial,  and  what  was  the  best  generalization performance you achieved.  [10%]\n",
    "\n",
    "* Description of contribution - Describe each group members’ contribution to the overall project.  [5%]"
   ]
  },
  {
   "cell_type": "markdown",
   "metadata": {},
   "source": [
    "## Introduction\n",
    "Brief overview..."
   ]
  },
  {
   "cell_type": "code",
   "execution_count": null,
   "metadata": {},
   "outputs": [],
   "source": []
  }
 ],
 "metadata": {
  "kernelspec": {
   "display_name": "Python 3",
   "language": "python",
   "name": "python3"
  },
  "language_info": {
   "codemirror_mode": {
    "name": "ipython",
    "version": 3
   },
   "file_extension": ".py",
   "mimetype": "text/x-python",
   "name": "python",
   "nbconvert_exporter": "python",
   "pygments_lexer": "ipython3",
   "version": "3.5.2"
  }
 },
 "nbformat": 4,
 "nbformat_minor": 2
}
