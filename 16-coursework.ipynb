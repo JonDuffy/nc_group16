{
 "cells": [
  {
   "cell_type": "markdown",
   "metadata": {},
   "source": [
    "# Introduction to Neural Computation Coursework- Group 16\n",
    "\n",
    "* Introduction - Discuss the data sets involved, the machine learning task, and what you aimed to achieve.  [5%]\n",
    "\n",
    "* Design - Describe and justify the neural network you designed for the task, and the factors you decided to experiment with.  [15%]\n",
    "\n",
    "* Implementation - Describe how you implemented your neural network and the associated performance analysis mechanisms. Explain  why  you  chose  to  do  it  that  way.   Remember  to  cite  any sources you used.  Include comments in the source code that explains how the code works.  [20%]\n",
    "\n",
    "* Experiments - Describe the experiments you carried out to optimise your network’s generalization performance, and present the results you obtained.  Explain in detail how you used the training and testing data sets.  The results should be presented in a statistically rigorous manner.  [45%]\n",
    "\n",
    "* Conclusions - Summarize your key findings, including which factors  proved  most  crucial,  and  what  was  the  best  generalization performance you achieved.  [10%]\n",
    "\n",
    "* Description of contribution - Describe each group members’ contribution to the overall project.  [5%]"
   ]
  },
  {
   "cell_type": "markdown",
   "metadata": {},
   "source": [
    "### Introduction\n",
    "For this task we look into using a neural network to classify and localise objects in images. We have X number of preprocessed training images of dimension 400x400 pixels, each of which are paired with a text file that specify classes and, if present, bounding boxes around a present object in that image. These images are from the VOC data set.\n",
    "\n",
    "We also have Y number of testing images of the same format. Our task is to accurately generate an accompanying text file, which specifies the classes and, if present, bounding boxes of all the test images.\n",
    "\n",
    "Below is the text file for image 2007_000027. Here we can see 20 classes.\n",
    "The “1 0” following the class name indicates that this class is not present in the image.\n",
    "If an object has been detected, the numbers that follow indicate the bounding box with pixel references. The pixels are numbered from top to bottom, then left to right. For example, 1 is pixel (1,1), 2 is pixel (2,1), etc. The numbers are paired such that the first number represents the starting pixel and the second represents how many consecutive pixels after this. This creates a bounding box around our objects."
   ]
  },
  {
   "cell_type": "raw",
   "metadata": {},
   "source": [
    "2007_000027.jpg_aeroplane,1 0\n",
    "2007_000027.jpg_bicycle,1 0\n",
    "2007_000027.jpg_bird,1 0\n",
    "2007_000027.jpg_boat,1 0\n",
    "2007_000027.jpg_bottle,1 0\n",
    "2007_000027.jpg_bus,1 0\n",
    "2007_000027.jpg_car,1 0\n",
    "2007_000027.jpg_cat,1 0\n",
    "2007_000027.jpg_chair,1 0\n",
    "2007_000027.jpg_cow,1 0\n",
    "2007_000027.jpg_diningtable,1 0\n",
    "2007_000027.jpg_dog,1 0\n",
    "2007_000027.jpg_horse,1 0\n",
    "2007_000027.jpg_motorbike,1 0\n",
    "2007_000027.jpg_person,32143 144 32543 144 32943 144 33343 144 33743 144 34143 144 34543 144 34943 144 35343 144 35743 144 36143 144 36543 144 36943 144 37343 144 37743 144 38143 144 38543 144 38943 144 39343 144 39743 144 40143 144 40543 144 40943 144 41343 144 41743 144 42143 144 42543 144 42943 144 43343 144 43743 144 44143 144 44543 144 44943 144 45343 144 45743 144 46143 144 46543 144 46943 144 47343 144 47743 144 48143 144 48543 144 48943 144 49343 144 49743 144 50143 144 50543 144 50943 144 51343 144 51743 144 52143 144 52543 144 52943 144 53343 144 53743 144 54143 144 54543 144 54943 144 55343 144 55743 144 56143 144 56543 144 56943 144 57343 144 57743 144 58143 144 58543 144 58943 144 59343 144 59743 144 60143 144 60543 144 60943 144 61343 144 61743 144 62143 144 62543 144 62943 144 63343 144 63743 144 64143 144 64543 144 64943 144 65343 144 65743 144 66143 144 66543 144 66943 144 67343 144 67743 144 68143 144 68543 144 68943 144 69343 144 69743 144 70143 144 70543 144 70943 144 71343 144 71743 144 72143 144 72543 144 72943 144 73343 144 73743 144 74143 144 74543 144 74943 144 75343 144 75743 144 76143 144 76543 144 76943 144 77343 144 77743 144 78143 144 78543 144 78943 144 79343 144 79743 144 80143 144 80543 144 80943 144 81343 144 81743 144 82143 144 82543 144 82943 144 83343 144 83743 144 84143 144 84543 144 84943 144 85343 144 85743 144 86143 144 86543 144 86943 144 87343 144 87743 144 88143 144 88543 144 88943 144 89343 144 89743 144 90143 144 90543 144 90943 144 91343 144 91743 144 92143 144 92543 144 92943 144 93343 144 93743 144 94143 144 94543 144 94943 144 95343 144 95743 144 96143 144 96543 144 96943 144 97343 144 97743 144 98143 144 98543 144 98943 144 99343 144 99743 144 100143 144 100543 144 100943 144 101343 144 101743 144 102143 144 102543 144 102943 144 103343 144 103743 144 104143 144 104543 144 104943 144 105343 144 105743 144 106143 144 106543 144 106943 144 107343 144 107743 144 108143 144 108543 144 108943 144 109343 144 109743 144 110143 144 110543 144 110943 144 111343 144 111743 144\n",
    "2007_000027.jpg_pottedplant,1 0\n",
    "2007_000027.jpg_sheep,1 0\n",
    "2007_000027.jpg_sofa,1 0\n",
    "2007_000027.jpg_train,1 0\n",
    "2007_000027.jpg_tvmonitor,1 0\n"
   ]
  },
  {
   "cell_type": "markdown",
   "metadata": {},
   "source": [
    "This text file corresponds to this image:\n",
    "\n",
    "<img src=\"files/2007_000027.jpg\">\n",
    "\n",
    "Classification and localisation is an active area of research within machine learning. The VOC data set that we have here is the standard benchmark to measure the performance of classification of neural networks. \n",
    "\n",
    "We aim to experiment with (WHAT ARE WE DOING) to improve the classification and localization of the neural network as well as understanding the impact of these changes on this classification and localization problem. The quality of the neural network will be measured by various cross validation methods."
   ]
  },
  {
   "cell_type": "markdown",
   "metadata": {},
   "source": [
    "### Design\n",
    "##### Initial Approach\n",
    "Our initial approach was to create a neural network from scratch so we could experiment with the topology, applying different types of layers (such as fully connected layers, convolutional layers).\n",
    "\n",
    "However, from this research, we came across a bottle neck. This bottle neck was in the form of the lack of time and computational power. According to CITE, a good neural network could take months to train. As a result we decided to change our approach to taking an existing network with pretrained weights.\n",
    "\n",
    "The neural network we have chosen to implement is YOLOv2. This is because of the video demonstration that the network implemented\n",
    "\n"
   ]
  },
  {
   "cell_type": "code",
   "execution_count": null,
   "metadata": {},
   "outputs": [],
   "source": []
  }
 ],
 "metadata": {
  "kernelspec": {
   "display_name": "Python 3",
   "language": "python",
   "name": "python3"
  },
  "language_info": {
   "codemirror_mode": {
    "name": "ipython",
    "version": 3
   },
   "file_extension": ".py",
   "mimetype": "text/x-python",
   "name": "python",
   "nbconvert_exporter": "python",
   "pygments_lexer": "ipython3",
   "version": "3.5.2"
  }
 },
 "nbformat": 4,
 "nbformat_minor": 2
}
